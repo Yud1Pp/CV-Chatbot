{
 "cells": [
  {
   "cell_type": "code",
   "execution_count": 1,
   "metadata": {},
   "outputs": [],
   "source": [
    "from langchain_community.document_loaders import PDFPlumberLoader\n",
    "from langchain_text_splitters import RecursiveCharacterTextSplitter\n",
    "from langchain_community.vectorstores import FAISS\n",
    "from langchain_ollama import OllamaEmbeddings\n",
    "from langchain_core.prompts import ChatPromptTemplate\n",
    "from langchain_ollama.llms import OllamaLLM"
   ]
  },
  {
   "cell_type": "code",
   "execution_count": 27,
   "metadata": {},
   "outputs": [],
   "source": [
    "template = \"\"\"\n",
    "[INST]You are an AI assistant designed to answer questions based on the CV of Yudi Pratama Putra, a male professional.  \n",
    "Use the provided context extracted from his CV to generate concise and accurate responses.  \n",
    "\n",
    "- If the information is available in the context, provide a clear and relevant answer in a maximum of 3 sentences.  \n",
    "- If the question is unclear, assume it refers to his professional background, skills, or experience.  \n",
    "- If the information is not available in the context, respond with \"I don't know based on the given CV.\"  \n",
    "\n",
    "Question: {question}  \n",
    "Context: {context}  \n",
    "[/INST]\n",
    "\"\"\""
   ]
  },
  {
   "cell_type": "code",
   "execution_count": 31,
   "metadata": {},
   "outputs": [],
   "source": [
    "model = OllamaLLM(\n",
    "    model=\"deepseek-r1:1.5b\",\n",
    "    temperature=0.1,  # Kurangi randomness\n",
    "    num_predict=300,  # Batasi panjang jawaban\n",
    "    num_thread=2,  # Sesuaikan dengan core CPU\n",
    "    top_k=50,  # Kurangi sampling space\n",
    "    top_p=0.7,  # Lebih deterministik\n",
    "    repeat_penalty=0.5,  # Kurangi pengulangan\n",
    ")"
   ]
  },
  {
   "cell_type": "code",
   "execution_count": 24,
   "metadata": {},
   "outputs": [],
   "source": [
    "def retrieve_docs(query, vector_store):\n",
    "    return vector_store.similarity_search(query)\n",
    "\n",
    "def answer_question(question, documents):\n",
    "    context = \"\\n\\n\".join([doc.page_content for doc in documents])\n",
    "    prompt = ChatPromptTemplate.from_template(template)\n",
    "    chain = prompt | model\n",
    "\n",
    "    return chain.invoke({\"question\": question, \"context\": context})"
   ]
  },
  {
   "cell_type": "code",
   "execution_count": 4,
   "metadata": {},
   "outputs": [],
   "source": [
    "pdfs_directory = 'pdf'\n",
    "\n",
    "index = FAISS.load_local(\"faiss_index\", embeddings=OllamaEmbeddings(model=\"nomic-embed-text\"), allow_dangerous_deserialization=True)"
   ]
  },
  {
   "cell_type": "code",
   "execution_count": 32,
   "metadata": {},
   "outputs": [
    {
     "name": "stdout",
     "output_type": "stream",
     "text": [
      "<think>\n",
      "Okay, so, so, so, so, so, so, so, so, so, so, so, so, so, so, so, so, so, so, so, so, so, so, so, so, so, so, so, so, so, so, so, so, so, so, so, so, so, so, so, so, so, so, so, so, so, so, so, so, so, so, so, so, so, so, so, so, so, so, so, so, so, so, so, so, so, so, so, so, so, so, so, so, so, so, so, so, so, so, so, so, so, so, so, so, so, so, so, so, so, so, so, so, so, so, so, so, so, so, so, so, so, so, so, so, so, so, so, so, so, so, so, so, so, so, so, so, so, so, so, so, so, so, so, so, so, so, so, so, so, so, so, so, so, so, so, so, so, so, so, so, so, so, so, so, so, so, so, so,\n"
     ]
    }
   ],
   "source": [
    "question = \"Who is Yudi Pratama Putra?\"\n",
    "\n",
    "related_documents = retrieve_docs(question, index)\n",
    "answer = answer_question(question, related_documents)\n",
    "\n",
    "print(answer)"
   ]
  },
  {
   "cell_type": "code",
   "execution_count": 1,
   "metadata": {},
   "outputs": [
    {
     "data": {
      "text/plain": [
       "4"
      ]
     },
     "execution_count": 1,
     "metadata": {},
     "output_type": "execute_result"
    }
   ],
   "source": [
    "import os\n",
    "\n",
    "os.cpu_count()"
   ]
  },
  {
   "cell_type": "code",
   "execution_count": 2,
   "metadata": {},
   "outputs": [
    {
     "name": "stdout",
     "output_type": "stream",
     "text": [
      "1.26.4\n"
     ]
    }
   ],
   "source": [
    "import numpy\n",
    "print(numpy.__version__)"
   ]
  }
 ],
 "metadata": {
  "kernelspec": {
   "display_name": "base",
   "language": "python",
   "name": "python3"
  },
  "language_info": {
   "codemirror_mode": {
    "name": "ipython",
    "version": 3
   },
   "file_extension": ".py",
   "mimetype": "text/x-python",
   "name": "python",
   "nbconvert_exporter": "python",
   "pygments_lexer": "ipython3",
   "version": "3.10.13"
  }
 },
 "nbformat": 4,
 "nbformat_minor": 2
}
